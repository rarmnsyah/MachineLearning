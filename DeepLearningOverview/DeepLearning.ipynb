{
 "cells": [
  {
   "cell_type": "markdown",
   "id": "a1c6f83b",
   "metadata": {},
   "source": [
    "## Making Machine Learning Model With Tensorflow\n",
    "This notebook will be used for an exercise to writing good machine learning model with library in python \"Tensorflow\".\n",
    "Im using videos by Valerio Velardo in playlist \"Deep Learning with Python\" as my mentor(?). You can see in this link : https://www.youtube.com/watch?v=1LLxZ35ru_g&list=PL-wATfeyAMNrtbkCNsLcpoAyBBRJZVlnf&index=2. This is a good playlist to python developers who have some interests in deep learning, or maybe on audio machine learning modelling, because this channel also discussed that topics.\n",
    "\n",
    "#### Just for our information:\n",
    "1. Machine learning : Make algorithm that can makes \"machine\" can learn by itself with given bunch of data\n",
    "2. Deep learning : One of machine learning model, that uses \"neuron\" as like human being in order to give \"machine\" senses like human\n",
    "3. Tensorflow : Open-source package that used for deep learning project, and can be used in some programming language such as python, javascript, c++, etc."
   ]
  },
  {
   "cell_type": "markdown",
   "id": "00f4b3a3",
   "metadata": {},
   "source": [
    "### First, Prepare Some Depedencies\n",
    "We need install some depedencies, such as tensorflow, etc. Remember! If we want to install tensorflow, dont forget to check tensorflow web documentation, and install tensorflow version that appropriate to your python version, you can check appropriate vers in this link : https://www.tensorflow.org/install/source_windows (windows), and install it.\n",
    "\n",
    "Next, install jupyter notebook (not mandatory as you can use any code editor). How to do it, you can check from this link : https://medium.com/analytics-vidhya/how-to-install-jupyter-notebook-using-pip-e597b5038bb1. \n",
    "\n",
    "Last, we can use anaconda to make our work easier :)."
   ]
  },
  {
   "cell_type": "markdown",
   "id": "698c6a70",
   "metadata": {},
   "source": [
    "### Lets Code\n",
    "In this file, we just only use fake data that we manually generated. The data that predict [[0.2],[0.1]] to [0.3] (y = x[0] + x[1])"
   ]
  },
  {
   "cell_type": "code",
   "execution_count": 2,
   "id": "852c42c6",
   "metadata": {},
   "outputs": [],
   "source": [
    "#import depedencies\n",
    "import numpy as np\n",
    "import tensorflow as tf\n",
    "from sklearn.model_selection import train_test_split\n",
    "from random import random\n",
    "from sklearn.metrics import mean_squared_error"
   ]
  },
  {
   "cell_type": "code",
   "execution_count": 3,
   "id": "aa1cc554",
   "metadata": {},
   "outputs": [],
   "source": [
    "# Generate data\n",
    "def generate_data(num):\n",
    "    X = np.array([[random() / 2 for _ in range(2)] for _ in range(num)])\n",
    "    y = np.array([x[0] + x[1] for x in X])\n",
    "    \n",
    "    X_train, X_test, y_train , y_test= train_test_split(X,y, test_size = 0.3)\n",
    "    return X_train, X_test, y_train , y_test"
   ]
  },
  {
   "cell_type": "markdown",
   "id": "78af8480",
   "metadata": {},
   "source": [
    "#### Build The Model\n",
    "We want to build the model with layers (2(input),5(hidden),1(output)) as we saw before, the data that predict x[0] + x[1].\n",
    "We are using optimizer SGD (gradient descent optimizer) and sigmoid as our activation function"
   ]
  },
  {
   "cell_type": "code",
   "execution_count": 4,
   "id": "04f063ea",
   "metadata": {},
   "outputs": [],
   "source": [
    "#Build the model\n",
    "input_dim = 2\n",
    "hidden_dim = 5\n",
    "output_dim = 1\n",
    "\n",
    "model = tf.keras.Sequential([\n",
    "    tf.keras.layers.Dense(hidden_dim, input_dim = input_dim, activation = 'sigmoid'),\n",
    "    tf.keras.layers.Dense(output_dim, activation = 'sigmoid')\n",
    "])"
   ]
  },
  {
   "cell_type": "code",
   "execution_count": 5,
   "id": "d71555d0",
   "metadata": {},
   "outputs": [],
   "source": [
    "#Compile the model\n",
    "optimizers = tf.keras.optimizers.SGD(learning_rate=0.1)\n",
    "model.compile(optimizer=optimizers, loss = 'mse')"
   ]
  },
  {
   "cell_type": "code",
   "execution_count": 6,
   "id": "f5933e1f",
   "metadata": {},
   "outputs": [],
   "source": [
    "X_train, X_test, y_train , y_test = generate_data(5000)"
   ]
  },
  {
   "cell_type": "code",
   "execution_count": 7,
   "id": "5b29d3d1",
   "metadata": {},
   "outputs": [
    {
     "name": "stdout",
     "output_type": "stream",
     "text": [
      "X_test: [[0.01363689 0.31886134]\n",
      " [0.01034165 0.4214004 ]]\n",
      " y_test: [0.33249823 0.43174204]\n"
     ]
    }
   ],
   "source": [
    "#Test our data\n",
    "print('X_test: {}\\n y_test: {}'.format(X_test[0:2], y_test[0:2]))"
   ]
  },
  {
   "cell_type": "code",
   "execution_count": 8,
   "id": "7532895e",
   "metadata": {
    "scrolled": true
   },
   "outputs": [
    {
     "name": "stdout",
     "output_type": "stream",
     "text": [
      "Epoch 1/100\n",
      "110/110 [==============================] - 1s 3ms/step - loss: 0.0449\n",
      "Epoch 2/100\n",
      "110/110 [==============================] - 0s 4ms/step - loss: 0.0443\n",
      "Epoch 3/100\n",
      "110/110 [==============================] - 0s 4ms/step - loss: 0.0440\n",
      "Epoch 4/100\n",
      "110/110 [==============================] - 0s 4ms/step - loss: 0.0436\n",
      "Epoch 5/100\n",
      "110/110 [==============================] - 0s 4ms/step - loss: 0.0433\n",
      "Epoch 6/100\n",
      "110/110 [==============================] - 0s 3ms/step - loss: 0.0430\n",
      "Epoch 7/100\n",
      "110/110 [==============================] - 0s 3ms/step - loss: 0.0427\n",
      "Epoch 8/100\n",
      "110/110 [==============================] - 0s 3ms/step - loss: 0.0424\n",
      "Epoch 9/100\n",
      "110/110 [==============================] - 0s 4ms/step - loss: 0.0421\n",
      "Epoch 10/100\n",
      "110/110 [==============================] - 0s 3ms/step - loss: 0.0418\n",
      "Epoch 11/100\n",
      "110/110 [==============================] - 0s 3ms/step - loss: 0.0415\n",
      "Epoch 12/100\n",
      "110/110 [==============================] - 1s 6ms/step - loss: 0.0412\n",
      "Epoch 13/100\n",
      "110/110 [==============================] - 1s 6ms/step - loss: 0.0408\n",
      "Epoch 14/100\n",
      "110/110 [==============================] - 0s 3ms/step - loss: 0.0405\n",
      "Epoch 15/100\n",
      "110/110 [==============================] - 0s 4ms/step - loss: 0.0402\n",
      "Epoch 16/100\n",
      "110/110 [==============================] - 0s 4ms/step - loss: 0.0399\n",
      "Epoch 17/100\n",
      "110/110 [==============================] - 0s 3ms/step - loss: 0.0395\n",
      "Epoch 18/100\n",
      "110/110 [==============================] - 0s 4ms/step - loss: 0.0392\n",
      "Epoch 19/100\n",
      "110/110 [==============================] - 0s 3ms/step - loss: 0.0388\n",
      "Epoch 20/100\n",
      "110/110 [==============================] - 0s 3ms/step - loss: 0.0384\n",
      "Epoch 21/100\n",
      "110/110 [==============================] - 0s 4ms/step - loss: 0.0380\n",
      "Epoch 22/100\n",
      "110/110 [==============================] - 0s 3ms/step - loss: 0.0376\n",
      "Epoch 23/100\n",
      "110/110 [==============================] - 0s 4ms/step - loss: 0.0372\n",
      "Epoch 24/100\n",
      "110/110 [==============================] - 0s 4ms/step - loss: 0.0368\n",
      "Epoch 25/100\n",
      "110/110 [==============================] - 1s 5ms/step - loss: 0.0363\n",
      "Epoch 26/100\n",
      "110/110 [==============================] - 0s 4ms/step - loss: 0.0358\n",
      "Epoch 27/100\n",
      "110/110 [==============================] - 0s 5ms/step - loss: 0.0353\n",
      "Epoch 28/100\n",
      "110/110 [==============================] - 0s 3ms/step - loss: 0.0347\n",
      "Epoch 29/100\n",
      "110/110 [==============================] - 0s 3ms/step - loss: 0.0342\n",
      "Epoch 30/100\n",
      "110/110 [==============================] - 1s 5ms/step - loss: 0.0336\n",
      "Epoch 31/100\n",
      "110/110 [==============================] - 1s 5ms/step - loss: 0.0330\n",
      "Epoch 32/100\n",
      "110/110 [==============================] - 1s 5ms/step - loss: 0.0324\n",
      "Epoch 33/100\n",
      "110/110 [==============================] - 0s 4ms/step - loss: 0.0317\n",
      "Epoch 34/100\n",
      "110/110 [==============================] - 1s 6ms/step - loss: 0.0310\n",
      "Epoch 35/100\n",
      "110/110 [==============================] - 0s 4ms/step - loss: 0.0303\n",
      "Epoch 36/100\n",
      "110/110 [==============================] - 1s 5ms/step - loss: 0.0296\n",
      "Epoch 37/100\n",
      "110/110 [==============================] - 1s 5ms/step - loss: 0.0289\n",
      "Epoch 38/100\n",
      "110/110 [==============================] - 0s 4ms/step - loss: 0.0281\n",
      "Epoch 39/100\n",
      "110/110 [==============================] - 0s 4ms/step - loss: 0.0273\n",
      "Epoch 40/100\n",
      "110/110 [==============================] - 0s 4ms/step - loss: 0.0266\n",
      "Epoch 41/100\n",
      "110/110 [==============================] - 0s 4ms/step - loss: 0.0257\n",
      "Epoch 42/100\n",
      "110/110 [==============================] - 0s 4ms/step - loss: 0.0249\n",
      "Epoch 43/100\n",
      "110/110 [==============================] - 0s 4ms/step - loss: 0.0241\n",
      "Epoch 44/100\n",
      "110/110 [==============================] - 0s 4ms/step - loss: 0.0232\n",
      "Epoch 45/100\n",
      "110/110 [==============================] - 0s 4ms/step - loss: 0.0224\n",
      "Epoch 46/100\n",
      "110/110 [==============================] - 0s 4ms/step - loss: 0.0215\n",
      "Epoch 47/100\n",
      "110/110 [==============================] - 0s 3ms/step - loss: 0.0207\n",
      "Epoch 48/100\n",
      "110/110 [==============================] - 0s 3ms/step - loss: 0.0198\n",
      "Epoch 49/100\n",
      "110/110 [==============================] - 0s 3ms/step - loss: 0.0190\n",
      "Epoch 50/100\n",
      "110/110 [==============================] - 0s 3ms/step - loss: 0.0181\n",
      "Epoch 51/100\n",
      "110/110 [==============================] - 0s 2ms/step - loss: 0.0173\n",
      "Epoch 52/100\n",
      "110/110 [==============================] - 0s 3ms/step - loss: 0.0165\n",
      "Epoch 53/100\n",
      "110/110 [==============================] - 0s 3ms/step - loss: 0.0157\n",
      "Epoch 54/100\n",
      "110/110 [==============================] - 0s 2ms/step - loss: 0.0149\n",
      "Epoch 55/100\n",
      "110/110 [==============================] - 0s 2ms/step - loss: 0.0141\n",
      "Epoch 56/100\n",
      "110/110 [==============================] - 0s 3ms/step - loss: 0.0134\n",
      "Epoch 57/100\n",
      "110/110 [==============================] - 0s 2ms/step - loss: 0.0126\n",
      "Epoch 58/100\n",
      "110/110 [==============================] - 0s 2ms/step - loss: 0.0120\n",
      "Epoch 59/100\n",
      "110/110 [==============================] - 0s 3ms/step - loss: 0.0113\n",
      "Epoch 60/100\n",
      "110/110 [==============================] - 0s 3ms/step - loss: 0.0106\n",
      "Epoch 61/100\n",
      "110/110 [==============================] - 0s 2ms/step - loss: 0.0100\n",
      "Epoch 62/100\n",
      "110/110 [==============================] - 0s 3ms/step - loss: 0.0094\n",
      "Epoch 63/100\n",
      "110/110 [==============================] - 0s 3ms/step - loss: 0.0089\n",
      "Epoch 64/100\n",
      "110/110 [==============================] - 0s 2ms/step - loss: 0.0083\n",
      "Epoch 65/100\n",
      "110/110 [==============================] - 0s 2ms/step - loss: 0.0078\n",
      "Epoch 66/100\n",
      "110/110 [==============================] - 0s 3ms/step - loss: 0.0073\n",
      "Epoch 67/100\n",
      "110/110 [==============================] - 0s 3ms/step - loss: 0.0069\n",
      "Epoch 68/100\n",
      "110/110 [==============================] - 0s 3ms/step - loss: 0.0064\n",
      "Epoch 69/100\n",
      "110/110 [==============================] - 0s 4ms/step - loss: 0.0060\n",
      "Epoch 70/100\n",
      "110/110 [==============================] - 0s 3ms/step - loss: 0.0056\n",
      "Epoch 71/100\n",
      "110/110 [==============================] - 0s 3ms/step - loss: 0.0053\n",
      "Epoch 72/100\n",
      "110/110 [==============================] - 0s 3ms/step - loss: 0.0050\n",
      "Epoch 73/100\n",
      "110/110 [==============================] - 0s 3ms/step - loss: 0.0046\n",
      "Epoch 74/100\n",
      "110/110 [==============================] - 0s 3ms/step - loss: 0.0043\n",
      "Epoch 75/100\n",
      "110/110 [==============================] - 0s 4ms/step - loss: 0.0041\n",
      "Epoch 76/100\n",
      "110/110 [==============================] - 0s 4ms/step - loss: 0.0038\n",
      "Epoch 77/100\n",
      "110/110 [==============================] - 0s 3ms/step - loss: 0.0036\n",
      "Epoch 78/100\n",
      "110/110 [==============================] - 0s 4ms/step - loss: 0.0033\n",
      "Epoch 79/100\n",
      "110/110 [==============================] - 0s 3ms/step - loss: 0.0031\n",
      "Epoch 80/100\n",
      "110/110 [==============================] - 0s 3ms/step - loss: 0.0029\n",
      "Epoch 81/100\n",
      "110/110 [==============================] - 0s 4ms/step - loss: 0.0028\n",
      "Epoch 82/100\n",
      "110/110 [==============================] - 0s 2ms/step - loss: 0.0026\n",
      "Epoch 83/100\n",
      "110/110 [==============================] - 0s 3ms/step - loss: 0.0024\n",
      "Epoch 84/100\n",
      "110/110 [==============================] - 0s 3ms/step - loss: 0.0023\n",
      "Epoch 85/100\n",
      "110/110 [==============================] - 0s 3ms/step - loss: 0.0021\n",
      "Epoch 86/100\n",
      "110/110 [==============================] - 0s 3ms/step - loss: 0.0020\n",
      "Epoch 87/100\n",
      "110/110 [==============================] - 0s 3ms/step - loss: 0.0019\n",
      "Epoch 88/100\n",
      "110/110 [==============================] - 0s 3ms/step - loss: 0.0018\n",
      "Epoch 89/100\n",
      "110/110 [==============================] - 0s 3ms/step - loss: 0.0017\n",
      "Epoch 90/100\n",
      "110/110 [==============================] - 0s 3ms/step - loss: 0.0016\n",
      "Epoch 91/100\n",
      "110/110 [==============================] - 0s 3ms/step - loss: 0.0015\n",
      "Epoch 92/100\n",
      "110/110 [==============================] - 0s 3ms/step - loss: 0.0014\n",
      "Epoch 93/100\n",
      "110/110 [==============================] - 0s 3ms/step - loss: 0.0014\n",
      "Epoch 94/100\n",
      "110/110 [==============================] - 0s 3ms/step - loss: 0.0013\n",
      "Epoch 95/100\n",
      "110/110 [==============================] - 0s 3ms/step - loss: 0.0012\n",
      "Epoch 96/100\n",
      "110/110 [==============================] - 0s 3ms/step - loss: 0.0012\n",
      "Epoch 97/100\n",
      "110/110 [==============================] - 0s 4ms/step - loss: 0.0011\n",
      "Epoch 98/100\n",
      "110/110 [==============================] - 0s 4ms/step - loss: 0.0011\n",
      "Epoch 99/100\n",
      "110/110 [==============================] - 0s 3ms/step - loss: 0.0010\n",
      "Epoch 100/100\n",
      "110/110 [==============================] - 0s 3ms/step - loss: 9.6663e-04\n"
     ]
    },
    {
     "data": {
      "text/plain": [
       "<keras.callbacks.History at 0x147d2819f40>"
      ]
     },
     "execution_count": 8,
     "metadata": {},
     "output_type": "execute_result"
    }
   ],
   "source": [
    "#When the data was correct\n",
    "#Now we want to fit (train) out model with data train\n",
    "\n",
    "model.fit(X_train, y_train, epochs = 100)"
   ]
  },
  {
   "cell_type": "code",
   "execution_count": 9,
   "id": "31399b28",
   "metadata": {},
   "outputs": [
    {
     "name": "stdout",
     "output_type": "stream",
     "text": [
      "47/47 [==============================] - 0s 3ms/step - loss: 9.1268e-04\n"
     ]
    },
    {
     "data": {
      "text/plain": [
       "0.0009126766235567629"
      ]
     },
     "execution_count": 9,
     "metadata": {},
     "output_type": "execute_result"
    }
   ],
   "source": [
    "#Evaluate data\n",
    "\n",
    "model.evaluate(X_test, y_test, verbose = 1)"
   ]
  },
  {
   "cell_type": "code",
   "execution_count": 10,
   "id": "1c747c55",
   "metadata": {},
   "outputs": [
    {
     "name": "stdout",
     "output_type": "stream",
     "text": [
      "1/1 [==============================] - 0s 208ms/step\n",
      "y_real: [[0.43373983]\n",
      " [0.92554398]\n",
      " [0.65633424]\n",
      " [0.39780205]\n",
      " [0.50748097]\n",
      " [0.24988489]\n",
      " [0.2964517 ]]\n",
      "y_pred: [[0.43780074]\n",
      " [0.8211765 ]\n",
      " [0.6500355 ]\n",
      " [0.40144426]\n",
      " [0.51114464]\n",
      " [0.2703101 ]\n",
      " [0.30907863]]\n",
      "MSE: 0.0016502923794563258\n"
     ]
    }
   ],
   "source": [
    "#Predict data\n",
    "#We want to predict data : [0.2, 0.1]\n",
    "\n",
    "data, _ , y_real, _ = generate_data(10)\n",
    "y_real = np.reshape(y_real, [7,1])\n",
    "y_pred = model.predict(data)\n",
    "\n",
    "print('y_real: {}\\ny_pred: {}'.format(y_real, y_pred))\n",
    "print('MSE: {}'.format(mean_squared_error(y_real, y_pred)))"
   ]
  },
  {
   "cell_type": "markdown",
   "id": "3e4cee2e",
   "metadata": {},
   "source": [
    "### We Are Finished!!\n",
    "Thats all our basic model with tensorflow to predict manual basic data. The model work pretty well with MSE (Mean Squared Error = 4.691192712509877e-05 (The MSE probably will different to other run, but thats doesnt matter at all))."
   ]
  }
 ],
 "metadata": {
  "kernelspec": {
   "display_name": "Python 3.9.12 ('base')",
   "language": "python",
   "name": "python3"
  },
  "language_info": {
   "codemirror_mode": {
    "name": "ipython",
    "version": 3
   },
   "file_extension": ".py",
   "mimetype": "text/x-python",
   "name": "python",
   "nbconvert_exporter": "python",
   "pygments_lexer": "ipython3",
   "version": "3.9.12"
  },
  "vscode": {
   "interpreter": {
    "hash": "7679c2132d3f6ce38c9df14d554b39c06862b36a4e6689c81f9ae15bd0911d7d"
   }
  }
 },
 "nbformat": 4,
 "nbformat_minor": 5
}
