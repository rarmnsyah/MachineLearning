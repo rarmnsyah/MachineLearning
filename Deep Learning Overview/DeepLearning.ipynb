{
 "cells": [
  {
   "cell_type": "markdown",
   "id": "a1c6f83b",
   "metadata": {},
   "source": [
    "## Making Machine Learning Model With Tensorflow\n",
    "This notebook will be used for an exercise to writing good machine learning model with library in python \"Tensorflow\".\n",
    "Im using videos by Valerio Velardo in playlist \"Deep Learning with Python\" as my mentor(?). You can see in this link : https://www.youtube.com/watch?v=1LLxZ35ru_g&list=PL-wATfeyAMNrtbkCNsLcpoAyBBRJZVlnf&index=2. This is a good playlist to python developers who have some interests in deep learning, or maybe on audio machine learning modelling, because this channel also discussed that topics.\n",
    "\n",
    "#### Just for our information:\n",
    "1. Machine learning : Make algorithm that can makes \"machine\" can learn by itself with given bunch of data\n",
    "2. Deep learning : One of machine learning model, that uses \"neuron\" as like human being in order to give \"machine\" senses like human\n",
    "3. Tensorflow : Open-source package that used for deep learning project, and can be used in some programming language such as python, javascript, c++, etc."
   ]
  },
  {
   "cell_type": "markdown",
   "id": "00f4b3a3",
   "metadata": {},
   "source": [
    "### First, Prepare Some Depedencies\n",
    "We need install some depedencies, such as tensorflow, etc. Remember! If we want to install tensorflow, dont forget to check tensorflow web documentation, and install tensorflow version that appropriate to your python version, you can check appropriate vers in this link : https://www.tensorflow.org/install/source_windows (windows), and install it.\n",
    "\n",
    "Next, install jupyter notebook (not mandatory as you can use any code editor). How to do it, you can check from this link : https://medium.com/analytics-vidhya/how-to-install-jupyter-notebook-using-pip-e597b5038bb1. \n",
    "\n",
    "Last, we can use anaconda to make our work easier :)."
   ]
  },
  {
   "cell_type": "markdown",
   "id": "698c6a70",
   "metadata": {},
   "source": [
    "### Lets Code\n",
    "In this file, we just only use fake data that we manually generated. The data that predict [[0.2],[0.1]] to [0.3] (y = x[0] + x[1])"
   ]
  },
  {
   "cell_type": "code",
   "execution_count": 1,
   "id": "852c42c6",
   "metadata": {},
   "outputs": [],
   "source": [
    "#import depedencies\n",
    "import numpy as np\n",
    "import tensorflow as tf\n",
    "from sklearn.model_selection import train_test_split\n",
    "from random import random\n",
    "from sklearn.metrics import mean_squared_error"
   ]
  },
  {
   "cell_type": "code",
   "execution_count": 2,
   "id": "aa1cc554",
   "metadata": {},
   "outputs": [],
   "source": [
    "# Generate data\n",
    "def generate_data(num):\n",
    "    X = np.array([[random() / 2 for _ in range(2)] for _ in range(num)])\n",
    "    y = np.array([x[0] + x[1] for x in X])\n",
    "    \n",
    "    X_train, X_test, y_train , y_test= train_test_split(X,y, test_size = 0.3)\n",
    "    return X_train, X_test, y_train , y_test"
   ]
  },
  {
   "cell_type": "markdown",
   "id": "78af8480",
   "metadata": {},
   "source": [
    "#### Build The Model\n",
    "We want to build the model with layers (2(input),5(hidden),1(output)) as we saw before, the data that predict x[0] + x[1].\n",
    "We are using optimizer SGD (gradient descent optimizer) and sigmoid as our activation function"
   ]
  },
  {
   "cell_type": "code",
   "execution_count": 3,
   "id": "04f063ea",
   "metadata": {},
   "outputs": [],
   "source": [
    "#Build the model\n",
    "input_dim = 2\n",
    "hidden_dim = 5\n",
    "output_dim = 1\n",
    "\n",
    "model = tf.keras.Sequential([\n",
    "    tf.keras.layers.Dense(hidden_dim, input_dim = input_dim, activation = 'sigmoid'),\n",
    "    tf.keras.layers.Dense(output_dim, activation = 'sigmoid')\n",
    "])"
   ]
  },
  {
   "cell_type": "code",
   "execution_count": 4,
   "id": "d71555d0",
   "metadata": {},
   "outputs": [],
   "source": [
    "#Compile the model\n",
    "optimizers = tf.keras.optimizers.SGD(learning_rate=0.1)\n",
    "model.compile(optimizer=optimizers, loss = 'mse')"
   ]
  },
  {
   "cell_type": "code",
   "execution_count": 5,
   "id": "f5933e1f",
   "metadata": {},
   "outputs": [],
   "source": [
    "X_train, X_test, y_train , y_test = generate_data(5000)"
   ]
  },
  {
   "cell_type": "code",
   "execution_count": 6,
   "id": "5b29d3d1",
   "metadata": {},
   "outputs": [
    {
     "name": "stdout",
     "output_type": "stream",
     "text": [
      "X_test: [[0.12374799 0.35040601]\n",
      " [0.05121062 0.3569407 ]]\n",
      " y_test: [0.47415399 0.40815132]\n"
     ]
    }
   ],
   "source": [
    "#Test our data\n",
    "print('X_test: {}\\n y_test: {}'.format(X_test[0:2], y_test[0:2]))"
   ]
  },
  {
   "cell_type": "code",
   "execution_count": 7,
   "id": "7532895e",
   "metadata": {
    "scrolled": true
   },
   "outputs": [
    {
     "name": "stdout",
     "output_type": "stream",
     "text": [
      "Epoch 1/100\n",
      "110/110 [==============================] - 1s 3ms/step - loss: 0.0105\n",
      "Epoch 2/100\n",
      "110/110 [==============================] - 0s 2ms/step - loss: 4.7102e-04\n",
      "Epoch 3/100\n",
      "110/110 [==============================] - 0s 3ms/step - loss: 4.4406e-04\n",
      "Epoch 4/100\n",
      "110/110 [==============================] - 0s 3ms/step - loss: 4.1327e-04\n",
      "Epoch 5/100\n",
      "110/110 [==============================] - 0s 3ms/step - loss: 3.9069e-04\n",
      "Epoch 6/100\n",
      "110/110 [==============================] - 0s 3ms/step - loss: 3.8417e-04\n",
      "Epoch 7/100\n",
      "110/110 [==============================] - 0s 2ms/step - loss: 3.4341e-04\n",
      "Epoch 8/100\n",
      "110/110 [==============================] - 0s 3ms/step - loss: 3.4933e-04\n",
      "Epoch 9/100\n",
      "110/110 [==============================] - 0s 2ms/step - loss: 3.3410e-04\n",
      "Epoch 10/100\n",
      "110/110 [==============================] - 0s 2ms/step - loss: 3.0697e-04\n",
      "Epoch 11/100\n",
      "110/110 [==============================] - 0s 2ms/step - loss: 2.5147e-04\n",
      "Epoch 12/100\n",
      "110/110 [==============================] - 0s 3ms/step - loss: 2.1236e-04\n",
      "Epoch 13/100\n",
      "110/110 [==============================] - 0s 2ms/step - loss: 1.5659e-04\n",
      "Epoch 14/100\n",
      "110/110 [==============================] - 0s 3ms/step - loss: 1.1980e-04\n",
      "Epoch 15/100\n",
      "110/110 [==============================] - 0s 2ms/step - loss: 7.8878e-05\n",
      "Epoch 16/100\n",
      "110/110 [==============================] - 0s 2ms/step - loss: 5.2959e-05\n",
      "Epoch 17/100\n",
      "110/110 [==============================] - 0s 2ms/step - loss: 3.9766e-05\n",
      "Epoch 18/100\n",
      "110/110 [==============================] - 0s 3ms/step - loss: 3.7353e-05\n",
      "Epoch 19/100\n",
      "110/110 [==============================] - 0s 3ms/step - loss: 3.6223e-05\n",
      "Epoch 20/100\n",
      "110/110 [==============================] - 0s 3ms/step - loss: 3.1047e-05\n",
      "Epoch 21/100\n",
      "110/110 [==============================] - 0s 2ms/step - loss: 3.0085e-05\n",
      "Epoch 22/100\n",
      "110/110 [==============================] - 0s 2ms/step - loss: 2.6877e-05\n",
      "Epoch 23/100\n",
      "110/110 [==============================] - 0s 2ms/step - loss: 2.6852e-05\n",
      "Epoch 24/100\n",
      "110/110 [==============================] - 0s 3ms/step - loss: 2.7571e-05\n",
      "Epoch 25/100\n",
      "110/110 [==============================] - 0s 2ms/step - loss: 3.2537e-05\n",
      "Epoch 26/100\n",
      "110/110 [==============================] - 0s 2ms/step - loss: 3.3952e-05\n",
      "Epoch 27/100\n",
      "110/110 [==============================] - 0s 2ms/step - loss: 2.4447e-05\n",
      "Epoch 28/100\n",
      "110/110 [==============================] - 0s 2ms/step - loss: 2.3066e-05\n",
      "Epoch 29/100\n",
      "110/110 [==============================] - 0s 3ms/step - loss: 2.2441e-05\n",
      "Epoch 30/100\n",
      "110/110 [==============================] - 0s 3ms/step - loss: 2.9286e-05\n",
      "Epoch 31/100\n",
      "110/110 [==============================] - 0s 2ms/step - loss: 2.5252e-05\n",
      "Epoch 32/100\n",
      "110/110 [==============================] - 0s 3ms/step - loss: 2.6870e-05\n",
      "Epoch 33/100\n",
      "110/110 [==============================] - 0s 3ms/step - loss: 2.1127e-05\n",
      "Epoch 34/100\n",
      "110/110 [==============================] - 0s 3ms/step - loss: 3.1852e-05\n",
      "Epoch 35/100\n",
      "110/110 [==============================] - 0s 3ms/step - loss: 2.6555e-05\n",
      "Epoch 36/100\n",
      "110/110 [==============================] - 0s 3ms/step - loss: 3.1042e-05\n",
      "Epoch 37/100\n",
      "110/110 [==============================] - 0s 3ms/step - loss: 2.0650e-05\n",
      "Epoch 38/100\n",
      "110/110 [==============================] - 0s 3ms/step - loss: 1.7765e-05\n",
      "Epoch 39/100\n",
      "110/110 [==============================] - 0s 3ms/step - loss: 1.7031e-05\n",
      "Epoch 40/100\n",
      "110/110 [==============================] - 0s 3ms/step - loss: 2.3725e-05\n",
      "Epoch 41/100\n",
      "110/110 [==============================] - 0s 3ms/step - loss: 2.5604e-05\n",
      "Epoch 42/100\n",
      "110/110 [==============================] - 0s 2ms/step - loss: 2.0703e-05\n",
      "Epoch 43/100\n",
      "110/110 [==============================] - 0s 3ms/step - loss: 1.9271e-05\n",
      "Epoch 44/100\n",
      "110/110 [==============================] - 0s 3ms/step - loss: 2.0974e-05\n",
      "Epoch 45/100\n",
      "110/110 [==============================] - 0s 2ms/step - loss: 1.5800e-05\n",
      "Epoch 46/100\n",
      "110/110 [==============================] - 0s 2ms/step - loss: 1.7461e-05\n",
      "Epoch 47/100\n",
      "110/110 [==============================] - 0s 3ms/step - loss: 2.5645e-05\n",
      "Epoch 48/100\n",
      "110/110 [==============================] - 0s 3ms/step - loss: 1.5429e-05\n",
      "Epoch 49/100\n",
      "110/110 [==============================] - 0s 2ms/step - loss: 1.2359e-05\n",
      "Epoch 50/100\n",
      "110/110 [==============================] - 0s 2ms/step - loss: 1.3556e-05\n",
      "Epoch 51/100\n",
      "110/110 [==============================] - 0s 2ms/step - loss: 2.1613e-05\n",
      "Epoch 52/100\n",
      "110/110 [==============================] - 0s 3ms/step - loss: 1.6772e-05\n",
      "Epoch 53/100\n",
      "110/110 [==============================] - 0s 3ms/step - loss: 2.0331e-05\n",
      "Epoch 54/100\n",
      "110/110 [==============================] - 0s 2ms/step - loss: 1.0360e-05\n",
      "Epoch 55/100\n",
      "110/110 [==============================] - 0s 2ms/step - loss: 1.3284e-05\n",
      "Epoch 56/100\n",
      "110/110 [==============================] - 0s 3ms/step - loss: 1.2377e-05\n",
      "Epoch 57/100\n",
      "110/110 [==============================] - 0s 3ms/step - loss: 1.1699e-05\n",
      "Epoch 58/100\n",
      "110/110 [==============================] - 0s 3ms/step - loss: 1.5545e-05\n",
      "Epoch 59/100\n",
      "110/110 [==============================] - 0s 3ms/step - loss: 9.5874e-06\n",
      "Epoch 60/100\n",
      "110/110 [==============================] - 0s 2ms/step - loss: 7.3090e-06\n",
      "Epoch 61/100\n",
      "110/110 [==============================] - 0s 3ms/step - loss: 1.4300e-05\n",
      "Epoch 62/100\n",
      "110/110 [==============================] - 0s 3ms/step - loss: 8.3416e-06\n",
      "Epoch 63/100\n",
      "110/110 [==============================] - 0s 3ms/step - loss: 6.8934e-06\n",
      "Epoch 64/100\n",
      "110/110 [==============================] - 0s 3ms/step - loss: 8.4429e-06\n",
      "Epoch 65/100\n",
      "110/110 [==============================] - 0s 3ms/step - loss: 1.2927e-05\n",
      "Epoch 66/100\n",
      "110/110 [==============================] - 0s 2ms/step - loss: 4.3925e-05\n",
      "Epoch 67/100\n",
      "110/110 [==============================] - 0s 3ms/step - loss: 4.4660e-06\n",
      "Epoch 68/100\n",
      "110/110 [==============================] - 0s 3ms/step - loss: 4.9317e-06\n",
      "Epoch 69/100\n",
      "110/110 [==============================] - 0s 3ms/step - loss: 5.8256e-06\n",
      "Epoch 70/100\n",
      "110/110 [==============================] - 0s 3ms/step - loss: 7.0743e-06\n",
      "Epoch 71/100\n",
      "110/110 [==============================] - 0s 3ms/step - loss: 5.2411e-06\n",
      "Epoch 72/100\n",
      "110/110 [==============================] - 0s 3ms/step - loss: 5.2732e-06\n",
      "Epoch 73/100\n",
      "110/110 [==============================] - 0s 2ms/step - loss: 8.6492e-06\n",
      "Epoch 74/100\n",
      "110/110 [==============================] - 0s 3ms/step - loss: 9.0060e-06\n",
      "Epoch 75/100\n",
      "110/110 [==============================] - 0s 3ms/step - loss: 9.4788e-06\n",
      "Epoch 76/100\n",
      "110/110 [==============================] - 0s 3ms/step - loss: 1.1656e-05\n",
      "Epoch 77/100\n",
      "110/110 [==============================] - 0s 3ms/step - loss: 1.4301e-05\n",
      "Epoch 78/100\n",
      "110/110 [==============================] - 0s 3ms/step - loss: 5.7501e-06\n",
      "Epoch 79/100\n",
      "110/110 [==============================] - 0s 3ms/step - loss: 8.0839e-06\n",
      "Epoch 80/100\n",
      "110/110 [==============================] - 0s 3ms/step - loss: 1.0613e-05\n",
      "Epoch 81/100\n",
      "110/110 [==============================] - 0s 3ms/step - loss: 8.4925e-06\n",
      "Epoch 82/100\n",
      "110/110 [==============================] - 0s 3ms/step - loss: 6.3866e-06\n",
      "Epoch 83/100\n",
      "110/110 [==============================] - 0s 3ms/step - loss: 5.1899e-06\n",
      "Epoch 84/100\n",
      "110/110 [==============================] - 0s 3ms/step - loss: 6.0771e-06\n",
      "Epoch 85/100\n",
      "110/110 [==============================] - 0s 2ms/step - loss: 2.1206e-05\n",
      "Epoch 86/100\n",
      "110/110 [==============================] - 0s 3ms/step - loss: 6.2710e-06\n",
      "Epoch 87/100\n",
      "110/110 [==============================] - 0s 3ms/step - loss: 4.1951e-06\n",
      "Epoch 88/100\n",
      "110/110 [==============================] - 0s 3ms/step - loss: 5.4504e-06\n",
      "Epoch 89/100\n",
      "110/110 [==============================] - 0s 3ms/step - loss: 1.3400e-05\n",
      "Epoch 90/100\n",
      "110/110 [==============================] - 0s 3ms/step - loss: 8.5860e-06\n",
      "Epoch 91/100\n",
      "110/110 [==============================] - 0s 3ms/step - loss: 4.5614e-06\n",
      "Epoch 92/100\n",
      "110/110 [==============================] - 0s 3ms/step - loss: 1.3604e-05\n",
      "Epoch 93/100\n",
      "110/110 [==============================] - 0s 3ms/step - loss: 6.0591e-06\n",
      "Epoch 94/100\n",
      "110/110 [==============================] - 0s 3ms/step - loss: 6.1769e-06\n",
      "Epoch 95/100\n"
     ]
    },
    {
     "name": "stdout",
     "output_type": "stream",
     "text": [
      "110/110 [==============================] - 0s 3ms/step - loss: 7.2499e-06\n",
      "Epoch 96/100\n",
      "110/110 [==============================] - 0s 2ms/step - loss: 8.8887e-06\n",
      "Epoch 97/100\n",
      "110/110 [==============================] - 0s 2ms/step - loss: 7.4742e-06\n",
      "Epoch 98/100\n",
      "110/110 [==============================] - 0s 3ms/step - loss: 8.5561e-06\n",
      "Epoch 99/100\n",
      "110/110 [==============================] - 0s 2ms/step - loss: 9.7510e-06\n",
      "Epoch 100/100\n",
      "110/110 [==============================] - 0s 2ms/step - loss: 4.8562e-06\n"
     ]
    },
    {
     "data": {
      "text/plain": [
       "<keras.callbacks.History at 0x23eba249f10>"
      ]
     },
     "execution_count": 7,
     "metadata": {},
     "output_type": "execute_result"
    }
   ],
   "source": [
    "#When the data was correct\n",
    "#Now we want to fit (train) out model with data train\n",
    "\n",
    "model.fit(X_train, y_train, epochs = 100)"
   ]
  },
  {
   "cell_type": "code",
   "execution_count": 8,
   "id": "31399b28",
   "metadata": {},
   "outputs": [
    {
     "name": "stdout",
     "output_type": "stream",
     "text": [
      "47/47 [==============================] - 0s 3ms/step - loss: 3.2936e-06\n"
     ]
    },
    {
     "data": {
      "text/plain": [
       "3.2936211482592626e-06"
      ]
     },
     "execution_count": 8,
     "metadata": {},
     "output_type": "execute_result"
    }
   ],
   "source": [
    "#Evaluate data\n",
    "\n",
    "model.evaluate(X_test, y_test, verbose = 1)"
   ]
  },
  {
   "cell_type": "code",
   "execution_count": 9,
   "id": "1c747c55",
   "metadata": {},
   "outputs": [
    {
     "name": "stdout",
     "output_type": "stream",
     "text": [
      "y_real: [[0.68259015]\n",
      " [0.32768084]\n",
      " [0.56333367]\n",
      " [0.52508011]\n",
      " [0.79536171]\n",
      " [0.16319625]\n",
      " [0.49931373]]\n",
      "y_pred: [[0.6808432 ]\n",
      " [0.32623124]\n",
      " [0.56330407]\n",
      " [0.5250422 ]\n",
      " [0.79556364]\n",
      " [0.16306853]\n",
      " [0.49750474]]\n",
      "MSE: 1.2121607200542265e-06\n"
     ]
    }
   ],
   "source": [
    "#Predict data\n",
    "#We want to predict data : [0.2, 0.1]\n",
    "\n",
    "data, _ , y_real, _ = generate_data(10)\n",
    "y_real = np.reshape(y_real, [7,1])\n",
    "y_pred = model.predict(data)\n",
    "\n",
    "print('y_real: {}\\ny_pred: {}'.format(y_real, y_pred))\n",
    "print('MSE: {}'.format(mean_squared_error(y_real, y_pred)))"
   ]
  },
  {
   "cell_type": "markdown",
   "id": "3e4cee2e",
   "metadata": {},
   "source": [
    "### We Are Finished!!\n",
    "Thats all our basic model with tensorflow to predict manual basic data. The model work pretty well with MSE (Mean Squared Error = 4.691192712509877e-05 (The MSE probably will different to other run, but thats doesnt matter at all))."
   ]
  }
 ],
 "metadata": {
  "kernelspec": {
   "display_name": "Python 3 (ipykernel)",
   "language": "python",
   "name": "python3"
  },
  "language_info": {
   "codemirror_mode": {
    "name": "ipython",
    "version": 3
   },
   "file_extension": ".py",
   "mimetype": "text/x-python",
   "name": "python",
   "nbconvert_exporter": "python",
   "pygments_lexer": "ipython3",
   "version": "3.9.7"
  }
 },
 "nbformat": 4,
 "nbformat_minor": 5
}
